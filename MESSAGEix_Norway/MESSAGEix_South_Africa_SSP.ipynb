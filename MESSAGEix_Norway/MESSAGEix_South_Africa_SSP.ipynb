{
 "cells": [
  {
   "cell_type": "code",
   "execution_count": 1,
   "metadata": {},
   "outputs": [],
   "source": [
    "# import packages\n",
    "import pandas as pd\n",
    "import ixmp\n",
    "import message_ix\n",
    "import os\n",
    "from utils.pp_result_to_iamc import results_to_iamc\n",
    "from utils.pp_plot_power_sector import plot_power_sector"
   ]
  },
  {
   "cell_type": "code",
   "execution_count": 2,
   "metadata": {},
   "outputs": [],
   "source": [
    "# define database and the baseline scenario\n",
    "#model = 'MESSAGE South Africa'\n",
    "#baseline = 'baseline'\n",
    "#database = 'message_sa'\n",
    "model = 'MESSAGE Norway new'\n",
    "scenario = 'baseline new'\n",
    "#database = 'nor'\n",
    "database = 'nor_new'"
   ]
  },
  {
   "cell_type": "code",
   "execution_count": 3,
   "metadata": {},
   "outputs": [
    {
     "name": "stderr",
     "output_type": "stream",
     "text": [
      "C:\\Users\\cristimi\\AppData\\Local\\Continuum\\anaconda3\\lib\\site-packages\\jpype\\_core.py:210: UserWarning: \n",
      "-------------------------------------------------------------------------------\n",
      "Deprecated: convertStrings was not specified when starting the JVM. The default\n",
      "behavior in JPype will be False starting in JPype 0.8. The recommended setting\n",
      "for new code is convertStrings=False.  The legacy value of True was assumed for\n",
      "this session. If you are a user of an application that reported this warning,\n",
      "please file a ticket with the developer.\n",
      "-------------------------------------------------------------------------------\n",
      "\n",
      "  \"\"\")\n",
      "INFO:root:launching ixmp.Platform with local HSQLDB database at 'db/nor_new'\n"
     ]
    }
   ],
   "source": [
    "# launch a platform to access the database\n",
    "#mp = ixmp.Platform(dbprops=f'db/{database}', dbtype='HSQLDB')\n",
    "mp = ixmp.Platform(dbprops=f'db/{database}',dbtype='HSQLDB')\n",
    "new_scen = message_ix.Scenario(mp, model = model, scenario = scenario, version='new')\n",
    "#base = message_ix.Scenario(mp, model=model, scenario=baseline)\n",
    "#base.solve(model='MESSAGE')"
   ]
  },
  {
   "cell_type": "code",
   "execution_count": 4,
   "metadata": {},
   "outputs": [],
   "source": [
    "# run baseline scenario (if not done yet)\n",
    "#base.remove_solution()\n",
    "#base.solve(model='MESSAGE')"
   ]
  },
  {
   "cell_type": "code",
   "execution_count": 5,
   "metadata": {},
   "outputs": [],
   "source": [
    "# clone baseline scenario and check out for modification\n",
    "#scenario = \"baseline_nor\"\n",
    "#scen = base.clone(model, scenario, keep_solution=False)\n",
    "#scen.set_as_default()\n",
    "#scen.check_out()"
   ]
  },
  {
   "cell_type": "code",
   "execution_count": 6,
   "metadata": {},
   "outputs": [
    {
     "data": {
      "text/plain": [
       "array([], dtype=float64)"
      ]
     },
     "execution_count": 6,
     "metadata": {},
     "output_type": "execute_result"
    }
   ],
   "source": [
    "# check which parameters exist\n",
    "new_scen.var_list()"
   ]
  },
  {
   "cell_type": "code",
   "execution_count": 7,
   "metadata": {},
   "outputs": [],
   "source": [
    "# read demand parameter into dataframe\n",
    "#df = scen.par('demand')"
   ]
  },
  {
   "cell_type": "code",
   "execution_count": 8,
   "metadata": {},
   "outputs": [],
   "source": [
    "# write demand dataframe to csv file \n",
    "#file_name = 'demand.csv'\n",
    "#df.to_csv(file_name)"
   ]
  },
  {
   "cell_type": "code",
   "execution_count": 9,
   "metadata": {},
   "outputs": [],
   "source": [
    "# read demand dataframe from csv\n",
    "#df_new = pd.read_csv(file_name)\n",
    "#new_scen.commit(comment='basic model nor')"
   ]
  },
  {
   "cell_type": "code",
   "execution_count": 10,
   "metadata": {},
   "outputs": [
    {
     "name": "stderr",
     "output_type": "stream",
     "text": [
      "INFO:root:Reading data from MESSAGEix_Norway_5year_0412_v4.xlsx\n",
      "INFO:root:Loading data for year\n",
      "INFO:root:Loading data for node\n",
      "INFO:root:Loading data for technology\n",
      "INFO:root:Loading data for relation\n",
      "INFO:root:Loading data for emission\n",
      "INFO:root:Loading data for lvl_spatial\n",
      "INFO:root:Loading data for time\n",
      "INFO:root:Loading data for lvl_temporal\n",
      "INFO:root:Loading data for type_node\n",
      "INFO:root:Loading data for type_tec\n",
      "INFO:root:Loading data for type_year\n",
      "INFO:root:Loading data for type_emission\n",
      "INFO:root:Loading data for mode\n",
      "INFO:root:Loading data for grade\n",
      "INFO:root:Loading data for level\n",
      "INFO:root:Loading data for commodity\n",
      "INFO:root:Loading data for rating\n",
      "INFO:root:Loading data for map_node\n",
      "INFO:root:Loading data for map_temporal_hierarchy\n",
      "INFO:root:Loading data for map_time\n",
      "INFO:root:Loading data for cat_node\n",
      "INFO:root:Loading data for cat_year\n",
      "INFO:root:Loading data for cat_emission\n",
      "INFO:root:Loading data for level_resource\n",
      "INFO:root:Loading data for level_renewable\n",
      "INFO:root:Loading data for demand\n",
      "INFO:root:Loading data for resource_remaining\n",
      "INFO:root:Loading data for resource_volume\n",
      "INFO:root:Loading data for technical_lifetime\n",
      "INFO:root:Adding missing unit: year\n",
      "INFO:root:Loading data for capacity_factor\n",
      "INFO:root:Loading data for min_utilization_factor\n",
      "INFO:root:Loading data for inv_cost\n",
      "INFO:root:Adding missing unit: USD/kW\n",
      "INFO:root:Loading data for fix_cost\n",
      "INFO:root:Adding missing unit: USD/kW/yr\n",
      "INFO:root:Loading data for var_cost\n",
      "INFO:root:Loading data for output\n",
      "INFO:root:Loading data for input\n",
      "INFO:root:Loading data for bound_new_capacity_up\n",
      "INFO:root:Loading data for bound_new_capacity_lo\n",
      "INFO:root:Loading data for bound_total_capacity_up\n",
      "INFO:root:Loading data for bound_activity_up\n",
      "INFO:root:Loading data for bound_activity_lo\n",
      "INFO:root:Loading data for initial_new_capacity_up\n",
      "INFO:root:Loading data for growth_new_capacity_up\n",
      "INFO:root:Loading data for growth_new_capacity_lo\n",
      "INFO:root:Loading data for initial_activity_up\n",
      "INFO:root:Loading data for growth_activity_up\n",
      "INFO:root:Loading data for growth_activity_lo\n",
      "INFO:root:Loading data for emission_factor\n",
      "INFO:root:Adding missing unit: t/kWa\n",
      "INFO:root:Loading data for construction_time\n",
      "INFO:root:Loading data for renewable_potential\n",
      "INFO:root:Loading data for renewable_capacity_factor\n",
      "INFO:root:Loading data for reliability_factor\n",
      "INFO:root:Loading data for peak_load_factor\n",
      "INFO:root:Loading data for flexibility_factor\n",
      "INFO:root:Loading data for rating_bin\n",
      "INFO:root:Loading data for emission_scaling\n",
      "INFO:root:Loading data for tax_emission\n",
      "INFO:root:Loading data for relation_cost\n",
      "INFO:root:Loading data for relation_activity\n",
      "INFO:root:Loading data for duration_period\n",
      "INFO:root:Loading data for duration_time\n",
      "INFO:root:Loading data for interestrate\n",
      "INFO:root:Loading data for historical_new_capacity\n",
      "INFO:root:Loading data for historical_activity\n",
      "INFO:root:Loading data for level_cost_activity_soft_up\n",
      "INFO:root:Loading data for level_cost_activity_soft_lo\n",
      "INFO:root:Loading data for soft_activity_up\n",
      "INFO:root:Loading data for soft_activity_lo\n"
     ]
    }
   ],
   "source": [
    "# add new demand to ixmp \n",
    "#scen.add_par('demand', df_new)\n",
    "new_scen.read_excel('MESSAGEix_Norway_5year_0412_v4.xlsx', add_units=True, commit_steps=False)\n",
    "#Commit changes in scenario to ixmp\n",
    "new_scen.commit(comment='basic model nor')"
   ]
  },
  {
   "cell_type": "code",
   "execution_count": 11,
   "metadata": {},
   "outputs": [],
   "source": [
    "#new_scen.check_in()\n",
    "new_scen.set_as_default()\n",
    "#new_scen.check_out()\n",
    "\n",
    "\n",
    "\n"
   ]
  },
  {
   "cell_type": "code",
   "execution_count": 12,
   "metadata": {},
   "outputs": [],
   "source": [
    "# commit changed scenario to ixmp\n",
    "#new_scen.commit('adjusted NOR')"
   ]
  },
  {
   "cell_type": "code",
   "execution_count": 13,
   "metadata": {},
   "outputs": [
    {
     "ename": "CalledProcessError",
     "evalue": "Command 'gams \"C:\\Users\\cristimi\\AppData\\Local\\Continuum\\anaconda3\\lib\\site-packages\\message_ix\\model\\MESSAGE_run.gms\" --in=\"C:\\Users\\cristimi\\AppData\\Local\\Continuum\\anaconda3\\lib\\site-packages\\message_ix\\model\\data\\MsgData_MESSAGE_Norway_new_baseline_new.gdx\" --out=\"C:\\Users\\cristimi\\AppData\\Local\\Continuum\\anaconda3\\lib\\site-packages\\message_ix\\model\\output\\MsgOutput_MESSAGE_Norway_new_baseline_new.gdx\" --iter=\"C:\\Users\\cristimi\\AppData\\Local\\Continuum\\anaconda3\\lib\\site-packages\\message_ix\\model\\output\\MsgIterationReport_MESSAGE_Norway_new_baseline_new.gdx\" LogOption=4' returned non-zero exit status 6.",
     "output_type": "error",
     "traceback": [
      "\u001b[1;31m---------------------------------------------------------------------------\u001b[0m",
      "\u001b[1;31mCalledProcessError\u001b[0m                        Traceback (most recent call last)",
      "\u001b[1;32m<ipython-input-13-bc6e9381945d>\u001b[0m in \u001b[0;36m<module>\u001b[1;34m\u001b[0m\n\u001b[0;32m      1\u001b[0m \u001b[1;31m# solve changed South Africa scenario\u001b[0m\u001b[1;33m\u001b[0m\u001b[1;33m\u001b[0m\u001b[1;33m\u001b[0m\u001b[0m\n\u001b[0;32m      2\u001b[0m \u001b[1;31m#new_scen.remove_solution()\u001b[0m\u001b[1;33m\u001b[0m\u001b[1;33m\u001b[0m\u001b[1;33m\u001b[0m\u001b[0m\n\u001b[1;32m----> 3\u001b[1;33m \u001b[0mnew_scen\u001b[0m\u001b[1;33m.\u001b[0m\u001b[0msolve\u001b[0m\u001b[1;33m(\u001b[0m\u001b[1;33m)\u001b[0m\u001b[1;33m\u001b[0m\u001b[1;33m\u001b[0m\u001b[0m\n\u001b[0m\u001b[0;32m      4\u001b[0m \u001b[1;33m\u001b[0m\u001b[0m\n\u001b[0;32m      5\u001b[0m \u001b[1;31m#new_scen.check_out()\u001b[0m\u001b[1;33m\u001b[0m\u001b[1;33m\u001b[0m\u001b[1;33m\u001b[0m\u001b[0m\n",
      "\u001b[1;32m~\\AppData\\Local\\Continuum\\anaconda3\\lib\\site-packages\\message_ix\\core.py\u001b[0m in \u001b[0;36msolve\u001b[1;34m(self, model, solve_options, **kwargs)\u001b[0m\n\u001b[0;32m    363\u001b[0m         \u001b[1;32mwith\u001b[0m \u001b[0mopen\u001b[0m\u001b[1;33m(\u001b[0m\u001b[0mfname\u001b[0m\u001b[1;33m,\u001b[0m \u001b[1;34m'w'\u001b[0m\u001b[1;33m)\u001b[0m \u001b[1;32mas\u001b[0m \u001b[0mf\u001b[0m\u001b[1;33m:\u001b[0m\u001b[1;33m\u001b[0m\u001b[1;33m\u001b[0m\u001b[0m\n\u001b[0;32m    364\u001b[0m             \u001b[0mf\u001b[0m\u001b[1;33m.\u001b[0m\u001b[0mwritelines\u001b[0m\u001b[1;33m(\u001b[0m\u001b[0mlines\u001b[0m\u001b[1;33m)\u001b[0m\u001b[1;33m\u001b[0m\u001b[1;33m\u001b[0m\u001b[0m\n\u001b[1;32m--> 365\u001b[1;33m         \u001b[0mret\u001b[0m \u001b[1;33m=\u001b[0m \u001b[0msuper\u001b[0m\u001b[1;33m(\u001b[0m\u001b[0mScenario\u001b[0m\u001b[1;33m,\u001b[0m \u001b[0mself\u001b[0m\u001b[1;33m)\u001b[0m\u001b[1;33m.\u001b[0m\u001b[0msolve\u001b[0m\u001b[1;33m(\u001b[0m\u001b[0mmodel\u001b[0m\u001b[1;33m=\u001b[0m\u001b[0mmodel\u001b[0m\u001b[1;33m,\u001b[0m \u001b[1;33m**\u001b[0m\u001b[0mkwargs\u001b[0m\u001b[1;33m)\u001b[0m\u001b[1;33m\u001b[0m\u001b[1;33m\u001b[0m\u001b[0m\n\u001b[0m\u001b[0;32m    366\u001b[0m         \u001b[0mos\u001b[0m\u001b[1;33m.\u001b[0m\u001b[0mremove\u001b[0m\u001b[1;33m(\u001b[0m\u001b[0mfname\u001b[0m\u001b[1;33m)\u001b[0m\u001b[1;33m\u001b[0m\u001b[1;33m\u001b[0m\u001b[0m\n\u001b[0;32m    367\u001b[0m         \u001b[1;32mreturn\u001b[0m \u001b[0mret\u001b[0m\u001b[1;33m\u001b[0m\u001b[1;33m\u001b[0m\u001b[0m\n",
      "\u001b[1;32m~\\AppData\\Local\\Continuum\\anaconda3\\lib\\site-packages\\ixmp\\core.py\u001b[0m in \u001b[0;36msolve\u001b[1;34m(self, model, case, model_file, in_file, out_file, solve_args, comment, var_list, equ_list, check_solution, callback, cb_kwargs)\u001b[0m\n\u001b[0;32m   1407\u001b[0m \u001b[1;33m\u001b[0m\u001b[0m\n\u001b[0;32m   1408\u001b[0m             \u001b[1;31m# Invoke GAMS\u001b[0m\u001b[1;33m\u001b[0m\u001b[1;33m\u001b[0m\u001b[1;33m\u001b[0m\u001b[0m\n\u001b[1;32m-> 1409\u001b[1;33m             \u001b[0mrun_gams\u001b[0m\u001b[1;33m(\u001b[0m\u001b[0mmodel_file\u001b[0m\u001b[1;33m,\u001b[0m \u001b[0margs\u001b[0m\u001b[1;33m)\u001b[0m\u001b[1;33m\u001b[0m\u001b[1;33m\u001b[0m\u001b[0m\n\u001b[0m\u001b[0;32m   1410\u001b[0m \u001b[1;33m\u001b[0m\u001b[0m\n\u001b[0;32m   1411\u001b[0m             \u001b[1;31m# Read model solution\u001b[0m\u001b[1;33m\u001b[0m\u001b[1;33m\u001b[0m\u001b[1;33m\u001b[0m\u001b[0m\n",
      "\u001b[1;32m~\\AppData\\Local\\Continuum\\anaconda3\\lib\\site-packages\\ixmp\\core.py\u001b[0m in \u001b[0;36mrun_gams\u001b[1;34m(model_file, args, gams_args)\u001b[0m\n\u001b[0;32m   1679\u001b[0m     \u001b[0mfile_path\u001b[0m \u001b[1;33m=\u001b[0m \u001b[1;32mNone\u001b[0m \u001b[1;32mif\u001b[0m \u001b[0mfile_path\u001b[0m \u001b[1;33m==\u001b[0m \u001b[1;34m''\u001b[0m \u001b[1;32melse\u001b[0m \u001b[0mfile_path\u001b[0m\u001b[1;33m\u001b[0m\u001b[1;33m\u001b[0m\u001b[0m\n\u001b[0;32m   1680\u001b[0m \u001b[1;33m\u001b[0m\u001b[0m\n\u001b[1;32m-> 1681\u001b[1;33m     \u001b[0mcheck_call\u001b[0m\u001b[1;33m(\u001b[0m\u001b[0mcmd\u001b[0m\u001b[1;33m,\u001b[0m \u001b[0mshell\u001b[0m\u001b[1;33m=\u001b[0m\u001b[0mos\u001b[0m\u001b[1;33m.\u001b[0m\u001b[0mname\u001b[0m \u001b[1;33m==\u001b[0m \u001b[1;34m'nt'\u001b[0m\u001b[1;33m,\u001b[0m \u001b[0mcwd\u001b[0m\u001b[1;33m=\u001b[0m\u001b[0mfile_path\u001b[0m\u001b[1;33m)\u001b[0m\u001b[1;33m\u001b[0m\u001b[1;33m\u001b[0m\u001b[0m\n\u001b[0m",
      "\u001b[1;32m~\\AppData\\Local\\Continuum\\anaconda3\\lib\\subprocess.py\u001b[0m in \u001b[0;36mcheck_call\u001b[1;34m(*popenargs, **kwargs)\u001b[0m\n\u001b[0;32m    339\u001b[0m         \u001b[1;32mif\u001b[0m \u001b[0mcmd\u001b[0m \u001b[1;32mis\u001b[0m \u001b[1;32mNone\u001b[0m\u001b[1;33m:\u001b[0m\u001b[1;33m\u001b[0m\u001b[1;33m\u001b[0m\u001b[0m\n\u001b[0;32m    340\u001b[0m             \u001b[0mcmd\u001b[0m \u001b[1;33m=\u001b[0m \u001b[0mpopenargs\u001b[0m\u001b[1;33m[\u001b[0m\u001b[1;36m0\u001b[0m\u001b[1;33m]\u001b[0m\u001b[1;33m\u001b[0m\u001b[1;33m\u001b[0m\u001b[0m\n\u001b[1;32m--> 341\u001b[1;33m         \u001b[1;32mraise\u001b[0m \u001b[0mCalledProcessError\u001b[0m\u001b[1;33m(\u001b[0m\u001b[0mretcode\u001b[0m\u001b[1;33m,\u001b[0m \u001b[0mcmd\u001b[0m\u001b[1;33m)\u001b[0m\u001b[1;33m\u001b[0m\u001b[1;33m\u001b[0m\u001b[0m\n\u001b[0m\u001b[0;32m    342\u001b[0m     \u001b[1;32mreturn\u001b[0m \u001b[1;36m0\u001b[0m\u001b[1;33m\u001b[0m\u001b[1;33m\u001b[0m\u001b[0m\n\u001b[0;32m    343\u001b[0m \u001b[1;33m\u001b[0m\u001b[0m\n",
      "\u001b[1;31mCalledProcessError\u001b[0m: Command 'gams \"C:\\Users\\cristimi\\AppData\\Local\\Continuum\\anaconda3\\lib\\site-packages\\message_ix\\model\\MESSAGE_run.gms\" --in=\"C:\\Users\\cristimi\\AppData\\Local\\Continuum\\anaconda3\\lib\\site-packages\\message_ix\\model\\data\\MsgData_MESSAGE_Norway_new_baseline_new.gdx\" --out=\"C:\\Users\\cristimi\\AppData\\Local\\Continuum\\anaconda3\\lib\\site-packages\\message_ix\\model\\output\\MsgOutput_MESSAGE_Norway_new_baseline_new.gdx\" --iter=\"C:\\Users\\cristimi\\AppData\\Local\\Continuum\\anaconda3\\lib\\site-packages\\message_ix\\model\\output\\MsgIterationReport_MESSAGE_Norway_new_baseline_new.gdx\" LogOption=4' returned non-zero exit status 6."
     ]
    }
   ],
   "source": [
    "# solve changed South Africa scenario\n",
    "#new_scen.remove_solution()\n",
    "new_scen.solve()\n",
    "\n",
    "#new_scen.check_out()\n",
    "#new_scen.commit('adjusted NOR2')"
   ]
  },
  {
   "cell_type": "code",
   "execution_count": null,
   "metadata": {
    "scrolled": true
   },
   "outputs": [],
   "source": [
    "# look at activity variable\n",
    "new_scen.var('EXT')"
   ]
  },
  {
   "cell_type": "code",
   "execution_count": null,
   "metadata": {},
   "outputs": [],
   "source": [
    "new_scen.var('ACT').lvl.plot()"
   ]
  },
  {
   "cell_type": "code",
   "execution_count": null,
   "metadata": {
    "scrolled": true
   },
   "outputs": [],
   "source": [
    "# export some results to Excel in results subfolder\n",
    "\n",
    "results_to_iamc(model, scenario, 'Norway', database, l_year=2070, folder='results')"
   ]
  },
  {
   "cell_type": "code",
   "execution_count": null,
   "metadata": {},
   "outputs": [],
   "source": [
    "# Export all variables\n",
    "\n",
    "path = os.getcwd() + \"\\\\results\\\\\"\n",
    "for variable in new_scen.var_list()[1:]:\n",
    "    print((variable))\n",
    "    df = new_scen.var(variable)\n",
    "    df.to_csv(os.path.join(path + 'NOR_SSP2_'+ str(variable) + '.csv'))\n",
    "\n",
    "   "
   ]
  },
  {
   "cell_type": "code",
   "execution_count": null,
   "metadata": {},
   "outputs": [],
   "source": [
    "test = plot_power_sector()"
   ]
  },
  {
   "cell_type": "code",
   "execution_count": null,
   "metadata": {},
   "outputs": [],
   "source": [
    "# close ixmp connection\n",
    "mp.close_db()"
   ]
  },
  {
   "cell_type": "code",
   "execution_count": null,
   "metadata": {},
   "outputs": [],
   "source": []
  },
  {
   "cell_type": "code",
   "execution_count": null,
   "metadata": {},
   "outputs": [],
   "source": []
  }
 ],
 "metadata": {
  "kernelspec": {
   "display_name": "Python 3",
   "language": "python",
   "name": "python3"
  },
  "language_info": {
   "codemirror_mode": {
    "name": "ipython",
    "version": 3
   },
   "file_extension": ".py",
   "mimetype": "text/x-python",
   "name": "python",
   "nbconvert_exporter": "python",
   "pygments_lexer": "ipython3",
   "version": "3.7.1"
  }
 },
 "nbformat": 4,
 "nbformat_minor": 2
}
