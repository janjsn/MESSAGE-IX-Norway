{
 "cells": [
  {
   "cell_type": "code",
   "execution_count": null,
   "metadata": {},
   "outputs": [],
   "source": [
    "#### import packages\n",
    "import pandas as pd\n",
    "import ixmp\n",
    "import message_ix\n",
    "from utils.pp_result_to_iamc import results_to_iamc"
   ]
  },
  {
   "cell_type": "code",
   "execution_count": null,
   "metadata": {},
   "outputs": [],
   "source": [
    "# define database and the baseline scenario\n",
    "model = 'MESSAGE South Africa'\n",
    "baseline = 'baseline'\n",
    "database = 'message_sa'"
   ]
  },
  {
   "cell_type": "code",
   "execution_count": null,
   "metadata": {},
   "outputs": [],
   "source": [
    "# launch a platform to access the database\n",
    "mp = ixmp.Platform(dbprops=f'db/{database}', dbtype='HSQLDB')\n",
    "base = message_ix.Scenario(mp, model=model, scenario=baseline)\n",
    "#base.solve(model='MESSAGE')"
   ]
  },
  {
   "cell_type": "code",
   "execution_count": null,
   "metadata": {},
   "outputs": [],
   "source": [
    "# run baseline scenario (if not done yet)\n",
    "base.remove_solution()\n",
    "base.solve(model='MESSAGE')"
   ]
  },
  {
   "cell_type": "code",
   "execution_count": null,
   "metadata": {},
   "outputs": [],
   "source": [
    "# clone baseline scenario and check out for modification\n",
    "scenario = \"SSP4\"\n",
    "scen = base.clone(model, scenario, keep_solution=False)\n",
    "scen.set_as_default()\n",
    "scen.check_out()"
   ]
  },
  {
   "cell_type": "code",
   "execution_count": null,
   "metadata": {},
   "outputs": [],
   "source": [
    "# check which parameters exist\n",
    "scen.par_list()"
   ]
  },
  {
   "cell_type": "code",
   "execution_count": null,
   "metadata": {},
   "outputs": [],
   "source": [
    "import os\n",
    "path = os.getcwd() + \"\\\\data_SSP4\\\\\"\n",
    "file_name = 'SSP4_demand.csv'\n",
    "os.path.join(path + file_name)"
   ]
  },
  {
   "cell_type": "markdown",
   "metadata": {},
   "source": [
    "## Reading value of parameters from database"
   ]
  },
  {
   "cell_type": "code",
   "execution_count": null,
   "metadata": {},
   "outputs": [],
   "source": [
    "# read demand parameter into dataframe\n",
    "df = scen.par('demand')\n",
    "# write demand dataframe to csv file \n",
    "file_name = 'SSP4_demand.csv'\n",
    "df.to_csv(os.path.join(path + file_name))"
   ]
  },
  {
   "cell_type": "code",
   "execution_count": null,
   "metadata": {},
   "outputs": [],
   "source": [
    "# read var_cost parameter into dataframe\n",
    "df = scen.par('var_cost')\n",
    "# write demand dataframe to csv file \n",
    "file_name = 'SSP4_var_cost.csv'\n",
    "df.to_csv(os.path.join(path + file_name))"
   ]
  },
  {
   "cell_type": "code",
   "execution_count": null,
   "metadata": {},
   "outputs": [],
   "source": [
    "# read resource cost parameter into dataframe\n",
    "df = scen.par('resource_cost')\n",
    "# write demand dataframe to csv file \n",
    "file_name = 'SSP4_resource_cost.csv'\n",
    "df.to_csv(os.path.join(path + file_name))"
   ]
  },
  {
   "cell_type": "code",
   "execution_count": null,
   "metadata": {},
   "outputs": [],
   "source": [
    "# read fix cost cost parameter into dataframe\n",
    "df = scen.par('fix_cost')\n",
    "# write demand dataframe to csv file \n",
    "file_name = 'SSP4_fix_cost.csv'\n",
    "df.to_csv(os.path.join(path + file_name))"
   ]
  },
  {
   "cell_type": "markdown",
   "metadata": {},
   "source": [
    "## Updating the value of parameters from csv files"
   ]
  },
  {
   "cell_type": "code",
   "execution_count": null,
   "metadata": {},
   "outputs": [],
   "source": [
    "# read demand dataframe from csv (with or without rebound effect)\n",
    "file_name = 'SSP4_demand_new.csv'\n",
    "file_name = 'SSP4_demand_new_no_rebound.csv'\n",
    "\n",
    "df_new = pd.read_csv(os.path.join(path + file_name))\n",
    "# add new demand to ixmp \n",
    "scen.add_par('demand', df_new)"
   ]
  },
  {
   "cell_type": "code",
   "execution_count": null,
   "metadata": {},
   "outputs": [],
   "source": [
    "# read inv_cost dataframe from csv\n",
    "file_name = 'SSP4_inv_cost_new.csv'\n",
    "df_new = pd.read_csv(os.path.join(path + file_name))\n",
    "# add new fix_cost to ixmp \n",
    "scen.add_par('inv_cost', df_new)"
   ]
  },
  {
   "cell_type": "code",
   "execution_count": null,
   "metadata": {},
   "outputs": [],
   "source": [
    "# read fix_cost dataframe from csv\n",
    "file_name = 'SSP4_fix_cost_new.csv'\n",
    "df_new = pd.read_csv(os.path.join(path + file_name))\n",
    "# add new fix cost to ixmp \n",
    "scen.add_par('fix_cost', df_new)"
   ]
  },
  {
   "cell_type": "code",
   "execution_count": null,
   "metadata": {},
   "outputs": [],
   "source": [
    "# read var_cost dataframe from csv\n",
    "file_name = 'SSP4_var_cost_new.csv'\n",
    "df_new = pd.read_csv(os.path.join(path + file_name))\n",
    "# add new fix cost to ixmp \n",
    "scen.add_par('var_cost', df_new)"
   ]
  },
  {
   "cell_type": "code",
   "execution_count": null,
   "metadata": {},
   "outputs": [],
   "source": [
    "# commit changed scenario to ixmp\n",
    "scen.commit('adjusted South Africa demand')"
   ]
  },
  {
   "cell_type": "code",
   "execution_count": null,
   "metadata": {},
   "outputs": [],
   "source": [
    "# solve changed South Africa scenario\n",
    "scen.solve()"
   ]
  },
  {
   "cell_type": "code",
   "execution_count": null,
   "metadata": {},
   "outputs": [],
   "source": [
    "# look at activity variable\n",
    "scen.var('ACT')"
   ]
  },
  {
   "cell_type": "code",
   "execution_count": null,
   "metadata": {},
   "outputs": [],
   "source": [
    "# look at emission variable\n",
    "#scen.var('EMISS', {'node': 'South Africa', 'year': [2050]})"
   ]
  },
  {
   "cell_type": "code",
   "execution_count": null,
   "metadata": {},
   "outputs": [],
   "source": [
    "# look at Objective variable\n",
    "scen.var('OBJ')"
   ]
  },
  {
   "cell_type": "code",
   "execution_count": null,
   "metadata": {},
   "outputs": [],
   "source": [
    "scen.var_list()"
   ]
  },
  {
   "cell_type": "code",
   "execution_count": null,
   "metadata": {},
   "outputs": [],
   "source": [
    "# Export all variables\n",
    "\n",
    "path = os.getcwd() + \"\\\\results_SSP4\\\\\"\n",
    "for variable in scen.var_list()[1:]:\n",
    "    print((variable))\n",
    "    df = scen.var(variable)\n",
    "    df.to_csv(os.path.join(path + 'SSP4_'+ str(variable) + '.csv'))\n",
    "\n",
    "    "
   ]
  },
  {
   "cell_type": "code",
   "execution_count": null,
   "metadata": {},
   "outputs": [],
   "source": [
    "# export some results to Excel in results_SSP4 subfolder\n",
    "from utils.pp_result_to_iamc import results_to_iamc\n",
    "folder = 'results_SSP4/'\n",
    "results_to_iamc(model, scenario, 'South Africa', database, 2070, folder)"
   ]
  },
  {
   "cell_type": "code",
   "execution_count": null,
   "metadata": {},
   "outputs": [],
   "source": [
    "# close ixmp connection\n",
    "mp.close_db()"
   ]
  }
 ],
 "metadata": {
  "kernelspec": {
   "display_name": "Python 3",
   "language": "python",
   "name": "python3"
  },
  "language_info": {
   "codemirror_mode": {
    "name": "ipython",
    "version": 3
   },
   "file_extension": ".py",
   "mimetype": "text/x-python",
   "name": "python",
   "nbconvert_exporter": "python",
   "pygments_lexer": "ipython3",
   "version": "3.7.4"
  }
 },
 "nbformat": 4,
 "nbformat_minor": 2
}
